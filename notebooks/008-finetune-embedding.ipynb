{
 "cells": [
  {
   "cell_type": "markdown",
   "id": "da699ceb-7656-4c4a-8893-0e72eb6ecd81",
   "metadata": {},
   "source": [
    "## Set up"
   ]
  },
  {
   "cell_type": "code",
   "execution_count": 1,
   "id": "ddd0aa43-92d7-4e19-aabd-ca0b9024f339",
   "metadata": {},
   "outputs": [],
   "source": [
    "%load_ext autoreload\n",
    "%autoreload 2"
   ]
  },
  {
   "cell_type": "code",
   "execution_count": 2,
   "id": "22e76c24-be24-4430-8181-ec1b51b8d576",
   "metadata": {},
   "outputs": [],
   "source": [
    "from loguru import logger\n",
    "import json\n",
    "\n",
    "import sys\n",
    "sys.path.insert(0, '..')"
   ]
  },
  {
   "cell_type": "code",
   "execution_count": 3,
   "id": "1912b3c4-93d7-425c-9c4d-79bd3d32253d",
   "metadata": {},
   "outputs": [],
   "source": [
    "import os\n",
    "from tqdm.notebook import tqdm\n",
    "import pandas as pd\n",
    "from llama_index.core.response.notebook_utils import display_source_node"
   ]
  },
  {
   "cell_type": "code",
   "execution_count": 4,
   "id": "5f9d7f55-93ad-4610-a383-9f377a851b1a",
   "metadata": {},
   "outputs": [],
   "source": [
    "import nest_asyncio\n",
    "\n",
    "nest_asyncio.apply()"
   ]
  },
  {
   "cell_type": "code",
   "execution_count": 5,
   "id": "f7b57e33-c419-4204-a001-59a1d66ea750",
   "metadata": {},
   "outputs": [
    {
     "data": {
      "text/plain": [
       "True"
      ]
     },
     "execution_count": 5,
     "metadata": {},
     "output_type": "execute_result"
    }
   ],
   "source": [
    "from dotenv import load_dotenv\n",
    "\n",
    "load_dotenv()"
   ]
  },
  {
   "cell_type": "markdown",
   "id": "7f0e599f-cd73-42cb-9d71-2e27aa3696f0",
   "metadata": {},
   "source": [
    "## Load config"
   ]
  },
  {
   "cell_type": "code",
   "execution_count": 6,
   "id": "c1c44e62-db3f-4c3f-b150-e635dd8aab9d",
   "metadata": {},
   "outputs": [
    {
     "data": {
      "text/plain": [
       "{\n",
       "  \"EXPERIMENT_NAME\": \"Heathcare bot\",\n",
       "  \"RUN_NAME\": \"finetune embedding\",\n",
       "  \"RUN_DESCRIPTION\": \"finetune model sentence transformer\",\n",
       "  \"TESTING\": false,\n",
       "  \"DEBUG\": false,\n",
       "  \"OBSERVABILITY\": true,\n",
       "  \"LOG_TO_MLFLOW\": true,\n",
       "  \"CREATE_RETRIEVAL_EVAL_DATASET\": false,\n",
       "  \"RECREATE_RESPONSE_EVAL_DATASET\": false,\n",
       "  \"RECREATE_INDEX\": false\n",
       "}"
      ]
     },
     "execution_count": 6,
     "metadata": {},
     "output_type": "execute_result"
    }
   ],
   "source": [
    "from src.run.args import RunInputArgs\n",
    "\n",
    "ARGS = RunInputArgs(\n",
    "    EXPERIMENT_NAME=\"Heathcare bot\",\n",
    "    RUN_NAME='finetune embedding',\n",
    "    RUN_DESCRIPTION=\"finetune model sentence transformer\",\n",
    "    TESTING=False,\n",
    "    DEBUG=False,\n",
    "    OBSERVABILITY=True,\n",
    "    LOG_TO_MLFLOW=True,\n",
    "    CREATE_RETRIEVAL_EVAL_DATASET=False,\n",
    "    RECREATE_INDEX=False,\n",
    ")\n",
    "ARGS"
   ]
  },
  {
   "cell_type": "code",
   "execution_count": 7,
   "id": "dbe7c419-7215-4bdb-9729-92ccce6cf00f",
   "metadata": {},
   "outputs": [
    {
     "name": "stderr",
     "output_type": "stream",
     "text": [
      "\u001b[32m2024-10-08 14:25:16.261\u001b[0m | \u001b[1mINFO    \u001b[0m | \u001b[36msrc.run.cfg\u001b[0m:\u001b[36minit\u001b[0m:\u001b[36m136\u001b[0m - \u001b[1mStarting Observability server with Phoenix...\u001b[0m\n",
      "INFO:phoenix.config:📋 Ensuring phoenix working directory: /home/nampq/.phoenix\n",
      "\u001b[32m2024-10-08 14:25:21.656\u001b[0m | \u001b[1mINFO    \u001b[0m | \u001b[36msrc.run.cfg\u001b[0m:\u001b[36minit\u001b[0m:\u001b[36m157\u001b[0m - \u001b[1mSetting up MLflow experiment Heathcare bot - run finetune embedding...\u001b[0m\n"
     ]
    },
    {
     "name": "stdout",
     "output_type": "stream",
     "text": [
      "🌍 To view the Phoenix app in your browser, visit http://localhost:6006/\n",
      "📖 For more information on how to use Phoenix, check out https://docs.arize.com/phoenix\n"
     ]
    },
    {
     "name": "stderr",
     "output_type": "stream",
     "text": [
      "2024/10/08 14:25:22 INFO mlflow.tracking.fluent: Experiment with name 'Heathcare bot' does not exist. Creating a new experiment.\n",
      "\u001b[32m2024-10-08 14:25:22.563\u001b[0m | \u001b[1mINFO    \u001b[0m | \u001b[36msrc.run.cfg\u001b[0m:\u001b[36minit\u001b[0m:\u001b[36m166\u001b[0m - \u001b[1mNotebook-generated artifacts are persisted at data/finetune embedding\u001b[0m\n"
     ]
    }
   ],
   "source": [
    "from src.run.cfg import RunConfig\n",
    "\n",
    "cfg=RunConfig()\n",
    "cfg.init(ARGS)"
   ]
  },
  {
   "cell_type": "code",
   "execution_count": 8,
   "id": "41ff5410-95e7-4538-8385-fdf714cb6f17",
   "metadata": {},
   "outputs": [],
   "source": [
    "from llama_index.core.evaluation import EmbeddingQAFinetuneDataset"
   ]
  },
  {
   "cell_type": "code",
   "execution_count": 10,
   "id": "27c2641d-095d-4513-8fe3-a4875d825947",
   "metadata": {},
   "outputs": [
    {
     "ename": "TypeError",
     "evalue": "llama_index.core.llama_dataset.legacy.embedding.EmbeddingQAFinetuneDataset() argument after ** must be a mapping, not list",
     "output_type": "error",
     "traceback": [
      "\u001b[0;31m---------------------------------------------------------------------------\u001b[0m",
      "\u001b[0;31mTypeError\u001b[0m                                 Traceback (most recent call last)",
      "Cell \u001b[0;32mIn[10], line 1\u001b[0m\n\u001b[0;32m----> 1\u001b[0m train_dataset \u001b[38;5;241m=\u001b[39m \u001b[43mEmbeddingQAFinetuneDataset\u001b[49m\u001b[38;5;241;43m.\u001b[39;49m\u001b[43mfrom_json\u001b[49m\u001b[43m(\u001b[49m\n\u001b[1;32m      2\u001b[0m \u001b[43m    \u001b[49m\u001b[38;5;124;43m'\u001b[39;49m\u001b[38;5;124;43m../data/translated_data1.json\u001b[39;49m\u001b[38;5;124;43m'\u001b[39;49m\n\u001b[1;32m      3\u001b[0m \u001b[43m)\u001b[49m\n",
      "File \u001b[0;32m~/.cache/pypoetry/virtualenvs/personal-bot-bBSbD0Py-py3.12/lib/python3.12/site-packages/llama_index/core/llama_dataset/legacy/embedding.py:49\u001b[0m, in \u001b[0;36mEmbeddingQAFinetuneDataset.from_json\u001b[0;34m(cls, path)\u001b[0m\n\u001b[1;32m     47\u001b[0m \u001b[38;5;28;01mwith\u001b[39;00m \u001b[38;5;28mopen\u001b[39m(path) \u001b[38;5;28;01mas\u001b[39;00m f:\n\u001b[1;32m     48\u001b[0m     data \u001b[38;5;241m=\u001b[39m json\u001b[38;5;241m.\u001b[39mload(f)\n\u001b[0;32m---> 49\u001b[0m \u001b[38;5;28;01mreturn\u001b[39;00m \u001b[38;5;28mcls\u001b[39m(\u001b[38;5;241m*\u001b[39m\u001b[38;5;241m*\u001b[39mdata)\n",
      "\u001b[0;31mTypeError\u001b[0m: llama_index.core.llama_dataset.legacy.embedding.EmbeddingQAFinetuneDataset() argument after ** must be a mapping, not list"
     ]
    }
   ],
   "source": [
    "train_dataset = EmbeddingQAFinetuneDataset.from_json(\n",
    "    '../data/'\n",
    ")"
   ]
  },
  {
   "cell_type": "code",
   "execution_count": null,
   "id": "a4aad613-92a7-48ba-b0f4-bd1ddac4bd61",
   "metadata": {},
   "outputs": [],
   "source": []
  }
 ],
 "metadata": {
  "kernelspec": {
   "display_name": "Python 3 (ipykernel)",
   "language": "python",
   "name": "python3"
  },
  "language_info": {
   "codemirror_mode": {
    "name": "ipython",
    "version": 3
   },
   "file_extension": ".py",
   "mimetype": "text/x-python",
   "name": "python",
   "nbconvert_exporter": "python",
   "pygments_lexer": "ipython3",
   "version": "3.12.4"
  }
 },
 "nbformat": 4,
 "nbformat_minor": 5
}
